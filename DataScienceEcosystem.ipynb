{
 "cells": [
  {
   "cell_type": "markdown",
   "id": "e8f0ebe0-fd3a-44a9-8f48-fd3d686eb927",
   "metadata": {},
   "source": [
    "Data Science Ecosystem"
   ]
  },
  {
   "cell_type": "markdown",
   "id": "fff06e3f-3c58-4118-a998-7471a56c3f47",
   "metadata": {},
   "source": [
    "In this notebook, Data Science Tools and Ecosystem are summarized."
   ]
  },
  {
   "cell_type": "markdown",
   "id": "570917e4-f0d8-44ab-9b58-1a82354e216f",
   "metadata": {
    "tags": []
   },
   "source": [
    "Some of the commonly used libraries used by Data Scientists include:\n",
    "    -Python\n",
    "    -R\n",
    "    -Java"
   ]
  },
  {
   "cell_type": "markdown",
   "id": "20806a55-9298-4fea-89b6-0ba99ccd2659",
   "metadata": {},
   "source": [
    "Some of the commonly used libraries used by Data Scientists include:\n",
    "    -Pandas\n",
    "    -Pytorch\n",
    "    -Seaborn"
   ]
  },
  {
   "cell_type": "markdown",
   "id": "a1d6b7ec-afb0-4525-bdf2-7b1e34b4ffe5",
   "metadata": {},
   "source": [
    "| Data Science Tools | \n",
    "|----------|\n",
    "|   Jupyter  |\n",
    "|   Anaconda  |\n",
    "|   Google Colab  |"
   ]
  },
  {
   "cell_type": "markdown",
   "id": "751b7e83-b274-4093-979d-5bf9de27b2e8",
   "metadata": {},
   "source": [
    "### Below are a few examples of evaluating arithmetic expressions in python."
   ]
  },
  {
   "cell_type": "code",
   "execution_count": 5,
   "id": "6bead0fd-2bb2-4120-a4b1-a269e1de3598",
   "metadata": {
    "tags": []
   },
   "outputs": [
    {
     "data": {
      "text/plain": [
       "17"
      ]
     },
     "execution_count": 5,
     "metadata": {},
     "output_type": "execute_result"
    }
   ],
   "source": [
    "\n",
    "#This a simple arithmetic expression to multiply then add integers\n",
    "(3*4)+5"
   ]
  },
  {
   "cell_type": "code",
   "execution_count": 6,
   "id": "9bee0aa1-d7a2-4f32-85e7-dcee8286635c",
   "metadata": {
    "tags": []
   },
   "outputs": [
    {
     "data": {
      "text/plain": [
       "3.3333333333333335"
      ]
     },
     "execution_count": 6,
     "metadata": {},
     "output_type": "execute_result"
    }
   ],
   "source": [
    "#This will convert 200 minutes to hours by dividing by 60\n",
    "200/60"
   ]
  },
  {
   "cell_type": "markdown",
   "id": "c788605d-12f3-4ad7-a0ff-b6d8eaaaee1f",
   "metadata": {},
   "source": [
    "# **Objectives:**\n",
    "- Jupyter Notebooks\n",
    "- Jupyter Markdown\n",
    "- Markdown Tables"
   ]
  },
  {
   "cell_type": "markdown",
   "id": "d952e7a4-82c6-4cc2-a706-74dac45dfa07",
   "metadata": {},
   "source": [
    "Author:\n",
    "## Luis Alfredo Miranda Valera"
   ]
  }
 ],
 "metadata": {
  "kernelspec": {
   "display_name": "Python",
   "language": "python",
   "name": "conda-env-python-py"
  },
  "language_info": {
   "codemirror_mode": {
    "name": "ipython",
    "version": 3
   },
   "file_extension": ".py",
   "mimetype": "text/x-python",
   "name": "python",
   "nbconvert_exporter": "python",
   "pygments_lexer": "ipython3",
   "version": "3.7.12"
  }
 },
 "nbformat": 4,
 "nbformat_minor": 5
}
